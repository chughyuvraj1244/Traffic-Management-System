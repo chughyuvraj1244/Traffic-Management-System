{
 "cells": [
  {
   "cell_type": "code",
   "execution_count": 193,
   "metadata": {},
   "outputs": [],
   "source": [
    "import cv2\n",
    "import numpy as np\n",
    "import matplotlib.pyplot as plt\n",
    "import time"
   ]
  },
  {
   "cell_type": "code",
   "execution_count": 194,
   "metadata": {},
   "outputs": [],
   "source": [
    "class CentroidTracker:\n",
    "    def __init__(self, max_disappeared=50):\n",
    "        self.next_object_id = 1\n",
    "        self.objects = {}\n",
    "        self.disappeared = {}\n",
    "        self.max_disappeared = max_disappeared\n",
    "\n",
    "    def register(self, centroid):\n",
    "        self.objects[self.next_object_id] = centroid\n",
    "        self.disappeared[self.next_object_id] = 0\n",
    "        self.next_object_id += 1\n",
    "\n",
    "    def deregister(self, object_id):\n",
    "        del self.objects[object_id]\n",
    "        del self.disappeared[object_id]\n",
    "\n",
    "    def update(self, input_objects):\n",
    "        if len(input_objects) == 0:\n",
    "            for object_id in list(self.disappeared.keys()):\n",
    "                self.disappeared[object_id] += 1\n",
    "\n",
    "                if self.disappeared[object_id] > self.max_disappeared:\n",
    "                    self.deregister(object_id)\n",
    "\n",
    "            return self.objects, list(self.objects.keys())  # Return both objects and their IDs\n",
    "\n",
    "        input_centroids = np.array([centroid for _, _, _, _, centroid in input_objects], dtype=\"int\")\n",
    "\n",
    "        if len(self.objects) == 0:\n",
    "            for i in range(0, len(input_centroids)):\n",
    "                self.register(input_centroids[i])\n",
    "\n",
    "        else:\n",
    "            object_ids = list(self.objects.keys())\n",
    "            object_centroids = list(self.objects.values())\n",
    "\n",
    "            D = cv2.spatial.distance.cdist(np.array(object_centroids), input_centroids)\n",
    "\n",
    "            rows = D.min(axis=1).argsort()\n",
    "            cols = D.argmin(axis=1)[rows]\n",
    "\n",
    "            used_rows = set()\n",
    "            used_cols = set()\n",
    "\n",
    "            for (row, col) in zip(rows, cols):\n",
    "                if row in used_rows or col in used_cols:\n",
    "                    continue\n",
    "\n",
    "                object_id = object_ids[row]\n",
    "                self.objects[object_id] = input_centroids[col]\n",
    "                self.disappeared[object_id] = 0\n",
    "\n",
    "                used_rows.add(row)\n",
    "                used_cols.add(col)\n",
    "\n",
    "            unused_rows = set(range(0, D.shape[0])).difference(used_rows)\n",
    "            unused_cols = set(range(0, D.shape[1])).difference(used_cols)\n",
    "\n",
    "            for row in unused_rows:\n",
    "                object_id = object_ids[row]\n",
    "                self.disappeared[object_id] += 1\n",
    "\n",
    "                if self.disappeared[object_id] > self.max_disappeared:\n",
    "                    self.deregister(object_id)\n",
    "\n",
    "            for col in unused_cols:\n",
    "                self.register(input_centroids[col])\n",
    "\n",
    "        return self.objects, list(self.objects.keys())  # Return both objects and their IDs"
   ]
  },
  {
   "cell_type": "code",
   "execution_count": 195,
   "metadata": {},
   "outputs": [
    {
     "name": "stdout",
     "output_type": "stream",
     "text": [
      "('yolo_82', 'yolo_94', 'yolo_106')\n"
     ]
    }
   ],
   "source": [
    "net = cv2.dnn.readNet(\"yolov3.weights\", \"yolov3.cfg\")\n",
    "layer_names = net.getUnconnectedOutLayersNames()\n",
    "print(layer_names)"
   ]
  },
  {
   "cell_type": "code",
   "execution_count": 196,
   "metadata": {},
   "outputs": [],
   "source": [
    "ct = CentroidTracker()"
   ]
  },
  {
   "cell_type": "code",
   "execution_count": 197,
   "metadata": {},
   "outputs": [],
   "source": [
    "# Set the desired frame rate\n",
    "desired_frame_rate = 60\n",
    "delay = int(1000 / desired_frame_rate)  # Delay in milliseconds"
   ]
  },
  {
   "cell_type": "code",
   "execution_count": 198,
   "metadata": {},
   "outputs": [],
   "source": [
    "new_width = 640\n",
    "new_height = 480"
   ]
  },
  {
   "cell_type": "code",
   "execution_count": 199,
   "metadata": {},
   "outputs": [],
   "source": [
    "# Save the processed video\n",
    "output_path = \"processed_video.avi\"\n",
    "fourcc = cv2.VideoWriter_fourcc(*\"XVID\")\n",
    "output_video = cv2.VideoWriter(output_path, fourcc, desired_frame_rate, (new_width, new_height))"
   ]
  },
  {
   "cell_type": "code",
   "execution_count": 200,
   "metadata": {},
   "outputs": [],
   "source": [
    "objects = []\n",
    "trajectories = {}\n",
    "velocities = {}\n",
    "object_ids = []"
   ]
  },
  {
   "cell_type": "code",
   "execution_count": 201,
   "metadata": {},
   "outputs": [],
   "source": [
    "confidence_threshold = 0"
   ]
  },
  {
   "cell_type": "code",
   "execution_count": 202,
   "metadata": {},
   "outputs": [],
   "source": [
    "# Read input video\n",
    "video_path = \"Test_sample2.mp4\"\n",
    "cap = cv2.VideoCapture(video_path)"
   ]
  },
  {
   "cell_type": "code",
   "execution_count": 203,
   "metadata": {},
   "outputs": [
    {
     "ename": "KeyError",
     "evalue": "0",
     "output_type": "error",
     "traceback": [
      "\u001b[1;31m---------------------------------------------------------------------------\u001b[0m",
      "\u001b[1;31mKeyError\u001b[0m                                  Traceback (most recent call last)",
      "\u001b[1;32m~\\AppData\\Local\\Temp\\ipykernel_18496\\1214462452.py\u001b[0m in \u001b[0;36m<module>\u001b[1;34m\u001b[0m\n\u001b[0;32m     51\u001b[0m     \u001b[1;31m# Draw bounding boxes and object IDs on the frame\u001b[0m\u001b[1;33m\u001b[0m\u001b[1;33m\u001b[0m\u001b[1;33m\u001b[0m\u001b[0m\n\u001b[0;32m     52\u001b[0m     \u001b[1;32mfor\u001b[0m \u001b[0mi\u001b[0m \u001b[1;32min\u001b[0m \u001b[0mrange\u001b[0m\u001b[1;33m(\u001b[0m\u001b[0mlen\u001b[0m\u001b[1;33m(\u001b[0m\u001b[0mobjects\u001b[0m\u001b[1;33m)\u001b[0m\u001b[1;33m)\u001b[0m\u001b[1;33m:\u001b[0m\u001b[1;33m\u001b[0m\u001b[1;33m\u001b[0m\u001b[0m\n\u001b[1;32m---> 53\u001b[1;33m         \u001b[1;32mif\u001b[0m \u001b[0misinstance\u001b[0m\u001b[1;33m(\u001b[0m\u001b[0mobjects\u001b[0m\u001b[1;33m[\u001b[0m\u001b[0mi\u001b[0m\u001b[1;33m]\u001b[0m\u001b[1;33m,\u001b[0m \u001b[0mtuple\u001b[0m\u001b[1;33m)\u001b[0m\u001b[1;33m:\u001b[0m  \u001b[1;31m# Check if the object is a tuple\u001b[0m\u001b[1;33m\u001b[0m\u001b[1;33m\u001b[0m\u001b[0m\n\u001b[0m\u001b[0;32m     54\u001b[0m             \u001b[0mstartX\u001b[0m\u001b[1;33m,\u001b[0m \u001b[0mstartY\u001b[0m\u001b[1;33m,\u001b[0m \u001b[0mendX\u001b[0m\u001b[1;33m,\u001b[0m \u001b[0mendY\u001b[0m\u001b[1;33m,\u001b[0m \u001b[0mcentroid\u001b[0m \u001b[1;33m=\u001b[0m \u001b[0mobjects\u001b[0m\u001b[1;33m[\u001b[0m\u001b[0mi\u001b[0m\u001b[1;33m]\u001b[0m\u001b[1;33m\u001b[0m\u001b[1;33m\u001b[0m\u001b[0m\n\u001b[0;32m     55\u001b[0m             \u001b[0mobject_id\u001b[0m \u001b[1;33m=\u001b[0m \u001b[0mobject_ids\u001b[0m\u001b[1;33m[\u001b[0m\u001b[0mi\u001b[0m\u001b[1;33m]\u001b[0m\u001b[1;33m\u001b[0m\u001b[1;33m\u001b[0m\u001b[0m\n",
      "\u001b[1;31mKeyError\u001b[0m: 0"
     ]
    }
   ],
   "source": [
    "while True:\n",
    "    start_time = time.time()\n",
    "\n",
    "    ret, frame = cap.read()\n",
    "    if not ret or frame is None:\n",
    "        break\n",
    "\n",
    "    # Perform object detection\n",
    "    blob = cv2.dnn.blobFromImage(frame, 1/255.0, (320, 320), swapRB=True, crop=False)\n",
    "    net.setInput(blob)\n",
    "    detections = net.forward(layer_names)\n",
    "\n",
    "    # Process detections and update tracker\n",
    "    objects = []\n",
    "    object_ids = []  # Initialize object_ids list\n",
    "    for layer_name, detection in zip(layer_names, detections):\n",
    "        for obj in detection:\n",
    "            scores = obj[5:]\n",
    "            class_id = np.argmax(scores)\n",
    "            confidence = scores[class_id]\n",
    "\n",
    "            if confidence >= 0:\n",
    "                # YOLO returns bounding box coordinates as a ratio of the image size\n",
    "                box = obj[0:4] * np.array([frame.shape[1], frame.shape[0], frame.shape[1], frame.shape[0]])\n",
    "                (startX, startY, endX, endY) = box.astype(\"int\")\n",
    "\n",
    "                # Extract centroid from bounding box\n",
    "                centroid = (int((startX + endX) / 2), int((startY + endY) / 2))\n",
    "\n",
    "                # Update tracker with the bounding box and centroid\n",
    "                objects.append((startX, startY, endX, endY, centroid))\n",
    "\n",
    "                # Update trajectory and velocity information\n",
    "                if object_ids:\n",
    "                    object_id = object_ids[0]  # Assuming only one object is detected\n",
    "                    if object_id not in trajectories:\n",
    "                        trajectories[object_id] = [centroid]\n",
    "                        velocities[object_id] = [0, 0]  # Initialize velocity\n",
    "                    else:\n",
    "                        # Calculate velocity\n",
    "                        prev_x, prev_y = trajectories[object_id][-1]\n",
    "                        velocity_x = centroid[0] - prev_x\n",
    "                        velocity_y = centroid[1] - prev_y\n",
    "                        velocities[object_id].append((velocity_x, velocity_y))\n",
    "\n",
    "                        # Update trajectory\n",
    "                        trajectories[object_id].append(centroid)\n",
    "    # Update the centroid tracker\n",
    "    objects, object_ids = ct.update(objects)\n",
    "\n",
    "    # Draw bounding boxes and object IDs on the frame\n",
    "    for i in range(len(objects)):\n",
    "        if isinstance(objects[i], tuple):  # Check if the object is a tuple\n",
    "            startX, startY, endX, endY, centroid = objects[i]\n",
    "            object_id = object_ids[i]\n",
    "\n",
    "            cv2.rectangle(frame, (startX, startY), (endX, endY), (0, 255, 0), 2)\n",
    "            cv2.circle(frame, centroid, 2, (0, 255, 0), -1)\n",
    "            cv2.putText(frame, f\"ID {object_id}\", (centroid[0] - 10, centroid[1] - 10),\n",
    "                        cv2.FONT_HERSHEY_SIMPLEX, 0.5, (0, 255, 0), 2)\n",
    "\n",
    "\n",
    "\n",
    "    # Save the frame to the output video\n",
    "    output_video.write(frame)\n",
    "\n",
    "    # Display the results\n",
    "    cv2.imshow(\"Frame\", frame)\n",
    "\n",
    "    # Calculate the time elapsed and sleep to achieve the desired frame rate\n",
    "    elapsed_time = time.time() - start_time\n",
    "    sleep_time = max(0, (delay - int(elapsed_time * 1000)))  # Ensure non-negative sleep time\n",
    "    time.sleep(sleep_time / 1000)  # Sleep in seconds\n",
    "\n",
    "    key = cv2.waitKey(1) & 0xFF\n",
    "    if key == ord(\"q\"):\n",
    "        break\n"
   ]
  },
  {
   "cell_type": "code",
   "execution_count": null,
   "metadata": {},
   "outputs": [],
   "source": [
    "cap.release()\n",
    "if output_video is not None:\n",
    "    output_video.release()\n",
    "cv2.destroyAllWindows()\n",
    "\n",
    "# Plot trajectory and velocity\n",
    "for object_id, trajectory in trajectories.items():\n",
    "    plt.figure(figsize=(10, 5))\n",
    "\n",
    "    # Plot Trajectory\n",
    "    plt.subplot(1, 2, 1)\n",
    "    trajectory = np.array(trajectory)\n",
    "    plt.plot(trajectory[:, 0], trajectory[:, 1], label=f'Object {object_id}')\n",
    "    plt.title('Trajectory')\n",
    "    plt.xlabel('X-coordinate')\n",
    "    plt.ylabel('Y-coordinate')\n",
    "    plt.legend()\n",
    "\n",
    "    # Plot Velocity\n",
    "    plt.subplot(1, 2, 2)\n",
    "    velocity = np.array(velocities[object_id])\n",
    "    plt.plot(velocity[:, 0], label='Velocity X')\n",
    "    plt.plot(velocity[:, 1], label='Velocity Y')\n",
    "    plt.title('Velocity')\n",
    "    plt.xlabel('Frame')\n",
    "    plt.ylabel('Velocity')\n",
    "    plt.legend()\n",
    "\n",
    "    plt.show()"
   ]
  },
  {
   "cell_type": "code",
   "execution_count": null,
   "metadata": {},
   "outputs": [
    {
     "data": {
      "text/plain": [
       "{}"
      ]
     },
     "execution_count": 165,
     "metadata": {},
     "output_type": "execute_result"
    }
   ],
   "source": [
    "velocities"
   ]
  },
  {
   "cell_type": "code",
   "execution_count": null,
   "metadata": {},
   "outputs": [
    {
     "data": {
      "text/plain": [
       "{}"
      ]
     },
     "execution_count": 166,
     "metadata": {},
     "output_type": "execute_result"
    }
   ],
   "source": [
    "objects"
   ]
  }
 ],
 "metadata": {
  "kernelspec": {
   "display_name": "Python 3",
   "language": "python",
   "name": "python3"
  },
  "language_info": {
   "codemirror_mode": {
    "name": "ipython",
    "version": 3
   },
   "file_extension": ".py",
   "mimetype": "text/x-python",
   "name": "python",
   "nbconvert_exporter": "python",
   "pygments_lexer": "ipython3",
   "version": "3.7.1"
  }
 },
 "nbformat": 4,
 "nbformat_minor": 2
}
